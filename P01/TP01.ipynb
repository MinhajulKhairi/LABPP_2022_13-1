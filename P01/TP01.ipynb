{
  "nbformat": 4,
  "nbformat_minor": 0,
  "metadata": {
    "colab": {
      "provenance": [],
      "collapsed_sections": []
    },
    "kernelspec": {
      "name": "python3",
      "display_name": "Python 3"
    },
    "language_info": {
      "name": "python"
    }
  },
  "cells": [
    {
      "cell_type": "code",
      "execution_count": null,
      "metadata": {
        "colab": {
          "base_uri": "https://localhost:8080/"
        },
        "id": "_Of2IcoiHHPq",
        "outputId": "9f6ef030-cf9a-4855-ec0b-2217415001f6"
      },
      "outputs": [
        {
          "output_type": "stream",
          "name": "stdout",
          "text": [
            "Input ketinggian menara (h): 100\n",
            "Input sudut elevasi pengamat terhadap ujung depan kapal (a): 60\n",
            "Input sudut elevasi pengamat terhadap ujung belakang kapal (b): 45\n",
            "Panjang kapal = 73.2 m\n"
          ]
        }
      ],
      "source": [
        "#Program01\n",
        "#Import module\n",
        "import math\n",
        "\n",
        "#input value of h, a, and b\n",
        "h = int(input('Input ketinggian menara (h): '))\n",
        "a = int(input('Input sudut elevasi pengamat terhadap ujung depan kapal (a): '))\n",
        "b = int(input('Input sudut elevasi pengamat terhadap ujung belakang kapal (b): '))\n",
        "\n",
        "#convert a and b to radian\n",
        "tower_to_backOfShip = math.tan(math.radians(a))*h\n",
        "tower_to_frontOfShip = math.tan(math.radians(b))*h\n",
        "\n",
        "#calculate length of the ship\n",
        "length_of_ship = math.sqrt((tower_to_backOfShip - tower_to_frontOfShip)**2)\n",
        "\n",
        "#print length of ship\n",
        "print(\"Panjang kapal =%5.1f m\" % length_of_ship)"
      ]
    },
    {
      "cell_type": "code",
      "source": [
        "#Program02\n",
        "#input seconds\n",
        "seconds = int(input('Input detik: '))\n",
        "\n",
        "#convert seconds to hours:minutes:seconds format\n",
        "hours = int(seconds / 3600)\n",
        "minutes = int((seconds % 3600) / 60)\n",
        "seconds = int((seconds % 3600 % 60))\n",
        "\n",
        "#print output\n",
        "print(\"%02d:%02d:%02d\" % (hours, minutes, seconds))\n"
      ],
      "metadata": {
        "colab": {
          "base_uri": "https://localhost:8080/"
        },
        "id": "9y20KX7OH8ko",
        "outputId": "a65d7f53-d5e9-4d3f-e502-de55352014ae"
      },
      "execution_count": null,
      "outputs": [
        {
          "output_type": "stream",
          "name": "stdout",
          "text": [
            "Input detik: 1111\n",
            "00:18:31\n"
          ]
        }
      ]
    },
    {
      "cell_type": "code",
      "source": [
        "#Program03 A\n",
        "import math\n",
        "r = int(input('Input jari-jari alas kerucut: '))\n",
        "t = int(input('Input tinggi kerucut: '))\n",
        " \n",
        "s = math.sqrt(t**2 + r**2)\n",
        "area = math.pi*(r**2) + math.pi*r*s\n",
        "volume = (math.pi*(r**2)*t)/3\n",
        "\n",
        "print('Luas Permukaan kerucut: %0.2f' % area)\n",
        "print('Volume kerucut: %0.2f' % volume)"
      ],
      "metadata": {
        "colab": {
          "base_uri": "https://localhost:8080/"
        },
        "id": "dH3O3o3to3PV",
        "outputId": "4d407c1c-0304-437f-a99e-a19ec66a3df0"
      },
      "execution_count": null,
      "outputs": [
        {
          "output_type": "stream",
          "name": "stdout",
          "text": [
            "Input jari-jari alas kerucut: 18\n",
            "Input tinggi kerucut: 21\n",
            "Luas Permukaan kerucut: 2581.93\n",
            "Volume kerucut: 7125.13\n"
          ]
        }
      ]
    },
    {
      "cell_type": "code",
      "source": [
        "#Program03 B\n",
        "#input seller, salary, and sales \n",
        "seller = input('Input nama seller: ')\n",
        "salary = float(input('Input gaji pokok: '))\n",
        "sales = float(input('Input penjualan: '))\n",
        "\n",
        "total_salary = salary + sales*0.15\n",
        "\n",
        "print(\"Total: $%0.2f\" % total_salary)"
      ],
      "metadata": {
        "id": "wftsxaOPJb4A",
        "colab": {
          "base_uri": "https://localhost:8080/"
        },
        "outputId": "107d316a-ad7a-45fb-b82d-5ed685fbefde"
      },
      "execution_count": null,
      "outputs": [
        {
          "output_type": "stream",
          "name": "stdout",
          "text": [
            "Input nama seller: Devon\n",
            "Input gaji pokok: 500.0\n",
            "Input total penjualan: 1230.30\n",
            "Total: $684.54\n"
          ]
        }
      ]
    },
    {
      "cell_type": "code",
      "source": [
        "#Program03 C\n",
        "#input electricity consumption (watt)\n",
        "elec_day = int(input('Input rata-rata pemakaian listrik harian (watt): '))\n",
        "\n",
        "#calculate electricity consumption for a month (watt)\n",
        "elec_month = elec_day*30\n",
        "#Kwh\n",
        "elec_month_kwh = elec_month/1000\n",
        "\n",
        "#calculate bill \n",
        "bill = elec_month_kwh*1325\n",
        "\n",
        "#print bill\n",
        "print('Tagihan listrik bulanan: Rp.%0.2f' % bill)\n"
      ],
      "metadata": {
        "colab": {
          "base_uri": "https://localhost:8080/"
        },
        "id": "C6GJ_t3_Pf2i",
        "outputId": "4178588a-38a8-4c36-b14a-a1f6ee886012"
      },
      "execution_count": null,
      "outputs": [
        {
          "output_type": "stream",
          "name": "stdout",
          "text": [
            "Input rata-rata pemakaian listrik harian (watt): 12455\n",
            "Tagihan listrik bulanan: Rp.495086.25\n"
          ]
        }
      ]
    },
    {
      "cell_type": "code",
      "source": [
        "#Program03 D\n",
        "#import modul\n",
        "import math\n",
        "\n",
        "#input ball diamater\n",
        "d = int(input('Input diameter bola: '))\n",
        "r = d/2\n",
        "\n",
        "#calculate volume\n",
        "volume = (4/3)*math.pi*(r**3)\n",
        "\n",
        "#print volume\n",
        "print('Volume bola = %0.2f' % volume)"
      ],
      "metadata": {
        "colab": {
          "base_uri": "https://localhost:8080/"
        },
        "id": "NEWjyrbdSoa8",
        "outputId": "360e724c-92c8-4e24-a759-f08e5ee2f8ce"
      },
      "execution_count": null,
      "outputs": [
        {
          "output_type": "stream",
          "name": "stdout",
          "text": [
            "Input diameter bola: 10\n",
            "Volume bola = 523.60\n"
          ]
        }
      ]
    }
  ]
}