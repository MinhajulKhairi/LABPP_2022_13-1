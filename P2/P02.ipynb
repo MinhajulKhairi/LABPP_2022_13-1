{
 "cells": [
  {
   "cell_type": "markdown",
   "metadata": {},
   "source": [
    "**Chapter 2: Conditional Statements**"
   ]
  },
  {
   "cell_type": "markdown",
   "metadata": {},
   "source": [
    "**Respon**\n",
    "1. Jelaskan konsep dan tujuan penggunaan conditional statement dalam programming!\n",
    "2. Sebutkan teknik-teknik conditional statement dalam bahasa pemrograman Python!"
   ]
  },
  {
   "cell_type": "markdown",
   "metadata": {},
   "source": [
    "**Conditional Statement/Pengkondisian**\n",
    "\n",
    "**What:**\n",
    "- Adalah fitur bahasa pemrograman yang melakukan tindakan yang berbeda tergantung kondisi yang ditentukan oleh programmer.\n",
    "\n",
    "**Why:**\n",
    "- untuk membuat program memiliki cabang yang masing-masing akan tereksekusi jika syaratnya terpenuhi.\n",
    "\n",
    "**How:**\n",
    "- if statement:\n",
    "  If -> dieksekusi ketika kondisi benar\n",
    "\n",
    "- if-else statement:\n",
    "  if -> dieksekusi ketika kondisi benar\n",
    "  else -> dieksekui ketika kondisi if salah\n",
    "\n",
    "- if-elif-else statement:\n",
    "  if -> dieksekusi ketika kondisi benar\n",
    "  elif -> dieksekusi ketika kondisi if salah, tetapi kondisi pada elif benar\n",
    "  else -> diekseskui ketika kondisi if dan elif salah\n",
    "\n",
    "- nested if:\n",
    "  - if bersarang (if di dalam if)\n",
    "\n",
    "- match case: (available in Python 3.10.x ^^)\n",
    "  case a -> dieksekusi ketika case-nya adalah a\n",
    "  case b -> dieksekusi ketika case-nya adalah b\n",
    "  ...\n",
    "  case _ -> dieksekusi ketika tidak tidak ada case yang cocok\n",
    "\n",
    "\n"
   ]
  },
  {
   "cell_type": "markdown",
   "metadata": {},
   "source": [
    "\n",
    "**Requirements:**\n",
    "1. Comparsion Operators:\n",
    "   ==  (Equal)\n",
    "   !=  (Not Equal)\n",
    "   >   (Greater than)\n",
    "   <   (Less than)\n",
    "   >=  (Greater than or equal to)\n",
    "   <=  (Less than or equal to)\n",
    "\n",
    "2. Logical Operators:\n",
    "   and (true if both are true)\n",
    "   or  (true if either is true)\n",
    "   not (reverse result, true to false or vice versa)\n"
   ]
  },
  {
   "cell_type": "code",
   "execution_count": 13,
   "metadata": {},
   "outputs": [],
   "source": [
    "#if statement:\n",
    "condition = ''\n",
    "\n",
    "if condition:\n",
    "    print('Condition is true')\n",
    "    \n",
    "    \n",
    "#what if the condition is false?\n",
    "#what if the condition is 0 or 1\n",
    "#what if the condition is another data type (float, str, etc)"
   ]
  },
  {
   "cell_type": "code",
   "execution_count": 26,
   "metadata": {},
   "outputs": [
    {
     "name": "stdout",
     "output_type": "stream",
     "text": [
      "Turn on the lamp\n",
      "on\n"
     ]
    }
   ],
   "source": [
    "#if-else statement:\n",
    "# lamp = 'on'\n",
    "\n",
    "# if lamp == 'on':\n",
    "#     print('Lamp is on')\n",
    "# else:\n",
    "#     print('Lamp is off')\n",
    "\n",
    "\n",
    "#what if there are another variable\n",
    "# lamp = ''\n",
    "# time = 'Night'\n",
    "\n",
    "# if time == 'night':\n",
    "#     print('Turn on the lamp')\n",
    "#     lamp = 'on'\n",
    "# else:\n",
    "#     print('Turn off the lamp')\n",
    "#     lamp = 'of'\n",
    "    \n",
    "\n",
    "# #what if there are another variable and condition\n",
    "lamp = ''\n",
    "time = 'nigth'\n",
    "people = 'exist'\n",
    "\n",
    "if time == 'night' or people =='exist':\n",
    "    print('Turn on the lamp')\n",
    "    lamp = 'on' #local variable\n",
    "else:\n",
    "    print('Turn off the lamp')\n",
    "    lamp = 'off'\n",
    "\n",
    "\n"
   ]
  },
  {
   "cell_type": "code",
   "execution_count": 38,
   "metadata": {},
   "outputs": [
    {
     "name": "stdout",
     "output_type": "stream",
     "text": [
      "-2 is even negative\n"
     ]
    }
   ],
   "source": [
    "#if-elif-else statement\n",
    "a = -2\n",
    "\n",
    "#is a positive, zero, or negative?\n",
    "# if a > 0:\n",
    "#     print(a, 'is a positive')\n",
    "# elif a == 0:\n",
    "#     print(a, 'is zero')\n",
    "# else:\n",
    "#     print(a, 'is a negative')\n",
    "\n",
    "#is a positive, zero, or negative | odd or even?\n",
    "if a > 0 and (a % 2) == 0:\n",
    "    print(a, 'is even positive')\n",
    "elif a > 0:\n",
    "    print(a, 'is odd positive')\n",
    "elif a == 0:\n",
    "    print(a, 'is zero')\n",
    "elif a < 0 and (a % 2) == 0:\n",
    "    print(a, 'is even negative')\n",
    "else:\n",
    "    print(a, 'is odd negative')"
   ]
  },
  {
   "cell_type": "code",
   "execution_count": 39,
   "metadata": {},
   "outputs": [
    {
     "name": "stdout",
     "output_type": "stream",
     "text": [
      "0 is zero\n"
     ]
    }
   ],
   "source": [
    "#nested if statement\n",
    "a = 0\n",
    "\n",
    "#is a positive, zero, or negative | odd or even?\n",
    "if a > 0:\n",
    "    if (a % 2) == 0:\n",
    "        print(a, 'is even positive')\n",
    "    else:\n",
    "        print(a, 'is odd positive')\n",
    "elif a == 0:\n",
    "    print(a, 'is zero')\n",
    "else:\n",
    "    if (a % 2) == 0:\n",
    "        print(a, 'is even negative')\n",
    "    else:\n",
    "        print(a, 'is odd negative') \n",
    "\n",
    "        "
   ]
  },
  {
   "cell_type": "code",
   "execution_count": 42,
   "metadata": {},
   "outputs": [
    {
     "name": "stdout",
     "output_type": "stream",
     "text": [
      "4 is even\n"
     ]
    }
   ],
   "source": [
    "#short-hand if-else statement\n",
    "a = 4\n",
    "\n",
    "print(a, 'is even') if (a % 2) == 0 else print(a, 'is odd')"
   ]
  },
  {
   "cell_type": "code",
   "execution_count": 46,
   "metadata": {},
   "outputs": [
    {
     "name": "stdout",
     "output_type": "stream",
     "text": [
      "Learn a languange and build your career\n"
     ]
    }
   ],
   "source": [
    "#match case\n",
    "languange = ''\n",
    "\n",
    "match languange:\n",
    "    case 'Python':\n",
    "        print('You are going to be a data scientist')\n",
    "        \n",
    "    case 'JavaScript':\n",
    "        print('You are going to be a front-end developer')\n",
    "        \n",
    "    case 'PHP':\n",
    "        print('You are going to be a back-end developer')\n",
    "        \n",
    "    case 'Java':\n",
    "        print('You are going to be a mobile developer')\n",
    "    \n",
    "    case 'C++':\n",
    "        print('You are going to be a game developer')\n",
    "    \n",
    "    case 'SQL':\n",
    "        print('You are going to be a database developer')\n",
    "    \n",
    "    case 'Solidity':\n",
    "        print('You are going to be a blockchain developer')\n",
    "    \n",
    "    case _:\n",
    "        print('Learn a languange and build your career')\n",
    "        "
   ]
  },
  {
   "cell_type": "code",
   "execution_count": null,
   "metadata": {},
   "outputs": [],
   "source": []
  },
  {
   "cell_type": "markdown",
   "metadata": {},
   "source": [
    "**Kuis:**\n",
    "1. Sebuah rumah memiliki dua buah lampu otomatis. Lampu pertama menyala pada pukul 06.00-18.00 dan pada waktu sisanya lampu tersebut mati, dengan catatan lampu tersebut hanya mengenali waktu dalam format 24 jam. Sedangkan, lampu kedua menyala ketika sensor mendeteksi keberadaan orang di rumah. Tuliskan program lampu otomatis berdasarkan cerita di atas! "
   ]
  },
  {
   "cell_type": "code",
   "execution_count": 54,
   "metadata": {},
   "outputs": [
    {
     "name": "stdout",
     "output_type": "stream",
     "text": [
      "on\n",
      "off\n"
     ]
    }
   ],
   "source": [
    "#1.\n",
    "lamp1 = ''\n",
    "lamp2 = ''\n",
    "\n",
    "time = 18.00\n",
    "people = 'not exist'\n",
    "\n",
    "if time > 24:\n",
    "    time = time % 24\n",
    "\n",
    "if time >= 6.00 and time <= 18.00:\n",
    "    lamp1 = 'on'\n",
    "    if people == 'exist':\n",
    "        lamp2 = 'on'\n",
    "    else:\n",
    "        lamp2 = 'off'\n",
    "else:\n",
    "    lamp1 = 'off'\n",
    "    if people == 'exist':\n",
    "        lamp2 = 'on'\n",
    "    else:\n",
    "        lamp2 = 'off'\n",
    "        \n",
    "print(lamp1)\n",
    "print(lamp2)"
   ]
  },
  {
   "cell_type": "code",
   "execution_count": 58,
   "metadata": {},
   "outputs": [
    {
     "name": "stdout",
     "output_type": "stream",
     "text": [
      "Your money is not enough\n"
     ]
    }
   ],
   "source": [
    "#2. Perhatikan program berikut:\n",
    "\n",
    "money = 5      #USD\n",
    "order = 'Apple'      #Fruit's name\n",
    "\n",
    "if money >= 10:\n",
    "    match order:\n",
    "        case 'Apple':\n",
    "            apple_price = 10\n",
    "            buy = money // apple_price\n",
    "            change = money - buy*apple_price\n",
    "            print('You bought', buy, order, 'and your change is $', change)\n",
    "            \n",
    "        case 'Banana':\n",
    "            banana_price = 12\n",
    "            buy = money // banana_price\n",
    "            change = money - buy*banana_price\n",
    "            print('You bought', buy, order, 'and your change is $', change)\n",
    "            \n",
    "        case 'Cherry':\n",
    "            cherry_price = 15\n",
    "            buy = money // cherry_price\n",
    "            change = money - buy*cherry_price\n",
    "            print('You bought', buy, order, 'and your change is $', change)\n",
    "            \n",
    "        case _:\n",
    "            print('Your order is not available')\n",
    "else:\n",
    "    print('Your money is not enough')\n",
    "\n",
    "\n",
    "#Tentukan output dari program di atas jika:\n",
    "#a. money = 20 dan order = 'Cherry'\n",
    "#b. money = 10 dan order = 'Durian'\n",
    "#c. money = 5 dan order = 'Apple'\n"
   ]
  },
  {
   "cell_type": "markdown",
   "metadata": {},
   "source": [
    "3. Buatlah program untuk menentukan bilangan terbesar dari tiga bilangan yang diberikan."
   ]
  },
  {
   "cell_type": "code",
   "execution_count": null,
   "metadata": {},
   "outputs": [],
   "source": [
    "a = 100\n",
    "b = 100\n",
    "c = 1\n",
    "\n",
    "if a >= b and a >= c:\n",
    "    print('The largest number is', a) \n",
    "elif b >= a and b >= c:\n",
    "    print('The largest number is', b)\n",
    "else:\n",
    "    print('The largest number is', c)\n"
   ]
  }
 ],
 "metadata": {
  "kernelspec": {
   "display_name": "Python 3.10.6 64-bit",
   "language": "python",
   "name": "python3"
  },
  "language_info": {
   "codemirror_mode": {
    "name": "ipython",
    "version": 3
   },
   "file_extension": ".py",
   "mimetype": "text/x-python",
   "name": "python",
   "nbconvert_exporter": "python",
   "pygments_lexer": "ipython3",
   "version": "3.10.6"
  },
  "orig_nbformat": 4,
  "vscode": {
   "interpreter": {
    "hash": "79aec0e5939b5a67d5808a88964e0416111916e6d032b7bcf3a8b59ece248820"
   }
  }
 },
 "nbformat": 4,
 "nbformat_minor": 2
}
