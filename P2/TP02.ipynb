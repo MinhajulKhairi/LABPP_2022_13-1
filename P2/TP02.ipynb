{
 "cells": [
  {
   "cell_type": "code",
   "execution_count": 2,
   "metadata": {},
   "outputs": [
    {
     "name": "stdout",
     "output_type": "stream",
     "text": [
      "> Nilai 99.0 = A\n"
     ]
    }
   ],
   "source": [
    "#Program01\n",
    "value = float(input('Nilai = '))\n",
    "grade = ''\n",
    "\n",
    "if value >= 90:\n",
    "  grade = 'A'\n",
    "elif value >= 80:\n",
    "  grade = 'B'\n",
    "elif value >= 70:\n",
    "  grade = 'C'\n",
    "elif value >= 60:\n",
    "  grade = 'D'\n",
    "elif value >= 40:\n",
    "  grade = 'E'\n",
    "else:\n",
    "  grade = 'F'\n",
    "\n",
    "output = '> Nilai {} = {}'.format(value, grade)\n",
    "print(output)"
   ]
  },
  {
   "cell_type": "code",
   "execution_count": 12,
   "metadata": {},
   "outputs": [
    {
     "name": "stdout",
     "output_type": "stream",
     "text": [
      "> Jumlah tagihan anda: Rp17.834.821,5\n"
     ]
    }
   ],
   "source": [
    "#Program02\n",
    "category = input('Golongan = ').upper()\n",
    "power = int(input('Daya (VA) = '))\n",
    "consumption = int(input('Pemakaian = '))\n",
    "\n",
    "bill = 0.0\n",
    "valid = True\n",
    "\n",
    "match category:\n",
    "    case 'R1':\n",
    "        if power == 900:\n",
    "            bill = 1352 * consumption\n",
    "        elif power == 1300 or power == 2200:\n",
    "            bill = 1444.70 * consumption\n",
    "        else:\n",
    "            valid = False\n",
    "    case 'R2':\n",
    "        if power >= 3500 and power <= 5500:\n",
    "            bill = 1699.53 * consumption\n",
    "        else:\n",
    "            valid = False\n",
    "    case 'R3':\n",
    "        if power >= 6600:\n",
    "            bill = 1699.53 * consumption\n",
    "        else:\n",
    "            valid = False\n",
    "    case 'B2':\n",
    "        if power >= 6600 and power <= 200000:\n",
    "            bill = 1444.70 * consumption\n",
    "        else:\n",
    "            valid = False\n",
    "    case 'B3':\n",
    "        if power >= 200000:\n",
    "            bill = 1114.74 * consumption\n",
    "        else:\n",
    "            valid = False\n",
    "    case 'I3':\n",
    "        if power > 200000:\n",
    "            bill = 1314.12 * consumption\n",
    "        else:\n",
    "            valid = False\n",
    "    case 'P1':\n",
    "        if power >= 6600 and power <= 200000:\n",
    "            bill = 1523.28 * consumption\n",
    "        else:\n",
    "            valid = False\n",
    "    case _:\n",
    "        valid = False\n",
    "\n",
    "if valid:\n",
    "    bill = round(bill, 2)\n",
    "    output = \"> Jumlah tagihan anda: Rp{:_}\".format(bill)\n",
    "    print(output.replace('.', ',').replace('_', '.'))\n",
    "else:\n",
    "    print(\"Data Tidak Valid\")\n",
    "    "
   ]
  },
  {
   "cell_type": "code",
   "execution_count": 13,
   "metadata": {},
   "outputs": [
    {
     "name": "stdout",
     "output_type": "stream",
     "text": [
      "3  angka positif\n",
      "2  angka negatif\n",
      "2  angka genap\n",
      "3  angka ganjil\n"
     ]
    }
   ],
   "source": [
    "#Program03 A B\n",
    "numbers = input(\"Input 5 bilangan bulat yang dipisah oleh spasi: \")\n",
    "\n",
    "sum_positive = 0\n",
    "sum_negative = 0\n",
    "sum_odd = 0\n",
    "sum_even = 0\n",
    "\n",
    "a, b, c, d, e = numbers.replace('-', '').split(' ')\n",
    "are_numeric = a.isnumeric() and b.isnumeric() and c.isnumeric() and d.isnumeric() and e.isnumeric()\n",
    "a, b, c, d, e = numbers.split(' ')\n",
    "\n",
    "if(are_numeric):\n",
    "    a = int(a)\n",
    "    b = int(b)\n",
    "    c = int(c)\n",
    "    d = int(d)\n",
    "    e = int(e)\n",
    "\n",
    "    #check positive or negative\n",
    "    if a > 0 : sum_positive += 1\n",
    "    if b > 0 : sum_positive += 1\n",
    "    if c > 0 : sum_positive += 1\n",
    "    if d > 0 : sum_positive += 1\n",
    "    if e > 0 : sum_positive += 1\n",
    "\n",
    "    if a < 0 : sum_negative+=1\n",
    "    if b < 0 : sum_negative+=1\n",
    "    if c < 0 : sum_negative+=1\n",
    "    if d < 0 : sum_negative+=1\n",
    "    if e < 0 : sum_negative+=1\n",
    "\n",
    "    #check even or odd\n",
    "    if a % 2 == 0: sum_even += 1\n",
    "    else: sum_odd += 1\n",
    "    if b % 2 == 0: sum_even += 1\n",
    "    else: sum_odd += 1\n",
    "    if c % 2 == 0: sum_even += 1\n",
    "    else: sum_odd += 1\n",
    "    if d % 2 == 0: sum_even += 1\n",
    "    else: sum_odd += 1\n",
    "    if e % 2 == 0: sum_even += 1\n",
    "    else: sum_odd += 1\n",
    "\n",
    "    print(sum_positive, ' angka positif')\n",
    "    print(sum_negative, ' angka negatif')\n",
    "    print(sum_odd, ' angka ganjil')\n",
    "    print(sum_even, ' angka genap')\n",
    "\n",
    "else:\n",
    "    print(\"Inputan tidak valid!\")"
   ]
  },
  {
   "cell_type": "code",
   "execution_count": 9,
   "metadata": {},
   "outputs": [
    {
     "name": "stdout",
     "output_type": "stream",
     "text": [
      "5  angka positif\n",
      "0  angka negatif\n",
      "2  angka genap\n",
      "3  angka ganjil\n"
     ]
    }
   ],
   "source": [
    "#Program03 A B using try catch\n",
    "try:\n",
    "    a = int(input())\n",
    "    b = int(input())\n",
    "    c = int(input())\n",
    "    d = int(input())\n",
    "    e = int(input())\n",
    "    \n",
    "    sum_positive = 0\n",
    "    sum_negative = 0\n",
    "    sum_odd = 0\n",
    "    sum_even = 0\n",
    "    \n",
    "    #check posive or negatif\n",
    "    if a > 0: sum_positive += 1\n",
    "    if b > 0: sum_positive += 1\n",
    "    if c > 0: sum_positive += 1\n",
    "    if d > 0: sum_positive += 1\n",
    "    if e > 0: sum_positive += 1\n",
    "    \n",
    "    if a < 0: sum_negative += 1\n",
    "    if b < 0: sum_negative += 1\n",
    "    if c < 0: sum_negative += 1\n",
    "    if d < 0: sum_negative += 1\n",
    "    if e < 0: sum_negative += 1\n",
    "    \n",
    "    #check even or odd\n",
    "    if a % 2 == 0: sum_even += 1\n",
    "    else: sum_odd += 1\n",
    "    if b % 2 == 0: sum_even += 1\n",
    "    else: sum_odd += 1\n",
    "    if c % 2 == 0: sum_even += 1\n",
    "    else: sum_odd += 1\n",
    "    if d % 2 == 0: sum_even += 1\n",
    "    else: sum_odd += 1\n",
    "    if e % 2 == 0: sum_even += 1\n",
    "    else: sum_odd += 1\n",
    "  \n",
    "    print(sum_positive, ' angka positif')\n",
    "    print(sum_negative, ' angka negatif')\n",
    "    print(sum_odd, ' angka ganjil')\n",
    "    print(sum_even, ' angka genap')\n",
    "\n",
    "except:\n",
    "    print('Inputan tidak valid')"
   ]
  },
  {
   "cell_type": "code",
   "execution_count": 25,
   "metadata": {},
   "outputs": [
    {
     "name": "stdout",
     "output_type": "stream",
     "text": [
      "Bilangan terbesar = 3\n"
     ]
    }
   ],
   "source": [
    "#Program03 C D\n",
    "a = int(input())\n",
    "b = int(input())\n",
    "c = int(input())\n",
    "\n",
    "largest = 0\n",
    "\n",
    "if a >= b and a >= c:\n",
    "    largest = a\n",
    "elif b >= a and b >= c:\n",
    "    largest = b\n",
    "else:\n",
    "    largest = c\n",
    "\n",
    "print('Bilangan terbesar =', largest)"
   ]
  }
 ],
 "metadata": {
  "kernelspec": {
   "display_name": "Python 3.10.6 64-bit",
   "language": "python",
   "name": "python3"
  },
  "language_info": {
   "codemirror_mode": {
    "name": "ipython",
    "version": 3
   },
   "file_extension": ".py",
   "mimetype": "text/x-python",
   "name": "python",
   "nbconvert_exporter": "python",
   "pygments_lexer": "ipython3",
   "version": "3.10.6"
  },
  "orig_nbformat": 4,
  "vscode": {
   "interpreter": {
    "hash": "79aec0e5939b5a67d5808a88964e0416111916e6d032b7bcf3a8b59ece248820"
   }
  }
 },
 "nbformat": 4,
 "nbformat_minor": 2
}
