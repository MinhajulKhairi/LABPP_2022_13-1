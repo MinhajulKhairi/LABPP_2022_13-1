{
 "cells": [
  {
   "cell_type": "markdown",
   "id": "bdd5921c",
   "metadata": {},
   "source": [
    "**Cek NIM (15 Poin)**"
   ]
  },
  {
   "cell_type": "markdown",
   "id": "a99637b5",
   "metadata": {},
   "source": [
    "Universitas Hasanuddin memiliki aturan dalam pemberian Nomor Induk Mahasiswa (NIM). NIM mahasiswa Unhas terdiri dari 10 karakter dengan informasi sebagai berikut:\n",
    "- Karakter pertama merupakan alfabet [A-P] yang menandakan kode fakultas. (Kode H untuk Fakultas MIPA)\n",
    "- Karakter kedua-keempat merupakan angka [0-9] yang menandakan kode prodi. (Angka 071 untuk Prodi Sistem Informasi)\n",
    "- Karakter kelima-keenam merupakan angka [0-9] yang menandakan tahun angkatan. (Angka 22 untuk Angkatan 2022)\n",
    "\n",
    "Dengan informasi diatas, buatlah program untuk mengecek apakah sebuah inputan merupakan NIM dari mahasiswa Universitas Hasanuddin Fakultas MIPA Prodi Sistem Informasi Angkatan 2022.\n"
   ]
  },
  {
   "cell_type": "code",
   "execution_count": 137,
   "id": "2bf0509b",
   "metadata": {},
   "outputs": [
    {
     "name": "stdout",
     "output_type": "stream",
     "text": [
      "H071221033\n",
      "Mahasiswa Universitas Hasanuddin Fakultas MIPA Prodi Sistem Informasi Angkatan 2022\n"
     ]
    }
   ],
   "source": [
    "import re\n",
    "\n",
    "nim = list(input())\n",
    "txt = ''\n",
    "\n",
    "while True:\n",
    "    if not re.search('[A-P]', nim[0]):\n",
    "        txt = 'Bukan mahasiswa Universitas Hasanuddin'\n",
    "        break\n",
    "    if nim[0] != 'H':\n",
    "        txt = 'Bukan mahasiswa Fakultas MIPA'\n",
    "        break\n",
    "    if nim[1]+nim[2]+nim[3] != '071':\n",
    "        txt = 'Bukan mahasiswa Prodi Sistem Informasi'\n",
    "        break\n",
    "    if nim[4]+nim[5] != '22':\n",
    "        txt = 'Bukan mahasiswa angkatan 2022'\n",
    "        break\n",
    "    txt = 'Mahasiswa Universitas Hasanuddin Fakultas MIPA Prodi Sistem Informasi Angkatan 2022'\n",
    "    break\n",
    "\n",
    "print(txt)"
   ]
  },
  {
   "cell_type": "markdown",
   "id": "177e94e4",
   "metadata": {},
   "source": [
    "0123456789\n",
    "Bukan mahasiswa Universitas Hasanuddin\n",
    "\n",
    "A123456789\n",
    "Bukan mahasiswa Fakultas MIPA\n",
    "\n",
    "H0123456789\n",
    "Bukan mahasiswa Prodi Sistem Informasi\n",
    "\n",
    "H071201033\n",
    "Bukan mahasiswa angkatan 2022\n",
    "\n",
    "H071221001\n",
    "Mahasiswa Universitas Hasanuddin Fakultas MIPA Prodi Sistem Informasi Angkatan 2022"
   ]
  },
  {
   "cell_type": "markdown",
   "id": "bdf4fb49",
   "metadata": {},
   "source": [
    "**Tipe Data (10 Poin)**\n",
    "\n",
    "Program menerima sebuah inputan. Tentukan tipe data dari inputan tersebut. Dengan ketentuan sebagai berikut:\n",
    "- Setiap bilangan bulat adalah integer\n",
    "- Setiap bilangan desimal adalah float\n",
    "- True atau False adalah boolean\n",
    "- Selebihnya adalah string"
   ]
  },
  {
   "cell_type": "markdown",
   "id": "7d2b9bb8",
   "metadata": {},
   "source": [
    "**Lampu Sederhana (15 Poin)**\n",
    "\n",
    "Dua buah lampu A dan B menyala mengikuti pola. Lampu A menyala setiap a menit sekali, dan lampu B menyala setiap b menit sekali. Jika saat ini kedua lampu menyala secara bersamaan. Tentukan dalam berapa menit kedua lampu akan menyala secara bersamaan lagi."
   ]
  },
  {
   "cell_type": "code",
   "execution_count": 173,
   "id": "91ffa77b",
   "metadata": {},
   "outputs": [
    {
     "name": "stdout",
     "output_type": "stream",
     "text": [
      "7120 1033\n"
     ]
    }
   ],
   "source": [
    "a, b = map(int, input().split())\n",
    "\n",
    "on_a = a\n",
    "\n",
    "for i in range(a):\n",
    "    on_b = b\n",
    "    for j in range(b):\n",
    "        if on_a == on_b:\n",
    "            print(on_a)\n",
    "            break\n",
    "        on_b += b\n",
    "    on_a += a\n",
    "    "
   ]
  },
  {
   "cell_type": "code",
   "execution_count": 174,
   "id": "8ef64505",
   "metadata": {},
   "outputs": [
    {
     "name": "stdout",
     "output_type": "stream",
     "text": [
      "7120 1033\n",
      "7354960\n"
     ]
    }
   ],
   "source": [
    "import math\n",
    "\n",
    "a, b = map(int, input().split())\n",
    "\n",
    "gcd = math.gcd(a, b)\n",
    "kpk = (a*b)//gcd\n",
    "\n",
    "print(kpk)"
   ]
  },
  {
   "cell_type": "code",
   "execution_count": 99,
   "id": "da92625b",
   "metadata": {},
   "outputs": [
    {
     "name": "stdout",
     "output_type": "stream",
     "text": [
      "-2\n",
      "<class 'float'>\n"
     ]
    }
   ],
   "source": [
    "data = input()\n",
    "\n",
    "def is_float(d):\n",
    "    try:\n",
    "        float(d)\n",
    "        return True\n",
    "    except ValueError:\n",
    "        return False\n",
    "\n",
    "if data.isnumeric():\n",
    "    data = int(data)\n",
    "elif is_float(data):\n",
    "    data = float(data)\n",
    "elif data == 'True' or data == 'False':\n",
    "    data = bool(data)\n",
    "else:\n",
    "    pass\n",
    "\n",
    "print(type(data))"
   ]
  },
  {
   "cell_type": "code",
   "execution_count": 121,
   "id": "93fbd02c",
   "metadata": {},
   "outputs": [
    {
     "name": "stdout",
     "output_type": "stream",
     "text": [
      "20\n"
     ]
    }
   ],
   "source": [
    "nim = list('H071201033')\n",
    "print(nim[4]+nim[5])"
   ]
  },
  {
   "cell_type": "markdown",
   "id": "8268351c",
   "metadata": {},
   "source": [
    "**Jabat Tangan (20 Poin)**\n",
    "\n",
    "Terdapat n orang dalam sebuah ruangan. Jika setiap orang dalam ruangan tersebut saling berjabat satu sama lain. Tentukan berapa total jabat tangan yang terjadi di ruangan tersebut. "
   ]
  },
  {
   "cell_type": "code",
   "execution_count": 157,
   "id": "27d0871c",
   "metadata": {},
   "outputs": [
    {
     "name": "stdout",
     "output_type": "stream",
     "text": [
      "71201033\n",
      "2534793514533028\n"
     ]
    }
   ],
   "source": [
    "num_people = int(input())\n",
    "num_shake_hands = int((num_people)*(num_people-1)/2)\n",
    "print(num_shake_hands)"
   ]
  },
  {
   "cell_type": "markdown",
   "id": "8f159ea6",
   "metadata": {},
   "source": [
    "**List Operations**"
   ]
  },
  {
   "cell_type": "code",
   "execution_count": null,
   "id": "c5847b23",
   "metadata": {},
   "outputs": [],
   "source": [
    "if __name__ == '__main__':\n",
    "    N = int(input())\n",
    "    ls = []\n",
    "    for i in range(N):\n",
    "        info = input().split(' ')\n",
    "        if len(info) == 1:\n",
    "            if info[0] == 'print':\n",
    "                print(ls)\n",
    "            elif info[0] == 'sort':\n",
    "                ls.sort()\n",
    "            elif info[0] == 'pop':\n",
    "                ls.pop()\n",
    "            elif info[0] == 'reverse':\n",
    "                ls.reverse()\n",
    "                       \n",
    "        elif len(info) == 2:\n",
    "            if info[0] == 'append':\n",
    "                ls.append(int(info[1]))\n",
    "            elif info[0] == 'remove':\n",
    "                ls.remove(int(info[1]))\n",
    "        \n",
    "        elif len(info) == 3:\n",
    "            if info[0] == 'insert':\n",
    "                ls.insert(int(info[1]), int(info[2]))"
   ]
  },
  {
   "cell_type": "markdown",
   "id": "1887145f",
   "metadata": {},
   "source": [
    "**Jumlah Kata (25 Poin)**\n",
    "\n",
    "Program menerima sebuah inputan berupa teks. Tuliskan semua kata yang ada dalam teks tersebut beserta jumlah masing masing kata tersebut, dengan aturan:\n",
    "- Kata diurutkan berdasarkan abjad\n",
    "- Kata tidak bersifat case sensitive"
   ]
  },
  {
   "cell_type": "code",
   "execution_count": 171,
   "id": "0f5c5f05",
   "metadata": {},
   "outputs": [
    {
     "name": "stdout",
     "output_type": "stream",
     "text": [
      "Lorem Ipsum is simply dummy text of the printing and typesetting industry Lorem Ipsum has been the industry's standard dummy text ever since the 1500s Lorem Ipsum is not simply random text. It has roots in a piece of classical Latin literature from 45 BC Lorem Ipsum is simply dummy text of the printing and typesetting industry Lorem Ipsum has been the industry's standard dummy text ever since the 1500s Lorem Ipsum is not simply random text. It has roots in a piece of classical Latin literature from 45 BC Lorem Ipsum is simply dummy text of the printing and typesetting industry Lorem Ipsum has been the industry's standard dummy text ever since the 1500s Lorem Ipsum is not simply random text. It has roots in a piece of classical Latin literature from 45 BC Lorem Ipsum is simply dummy text of the printing and typesetting industry Lorem Ipsum has been the industry's standard dummy text ever since the 1500s Lorem Ipsum is not simply random text. It has roots in a piece of classical Latin literature from 45 BC Lorem Ipsum is simply dummy text of the printing and typesetting industry Lorem Ipsum has been the industry's standard dummy text ever since the 1500s Lorem Ipsum is not simply random text. It has roots in a piece of classical Latin literature from 45 BC Lorem Ipsum is simply dummy text of the printing and typesetting industry Lorem Ipsum has been the industry's standard dummy text ever since the 1500s Lorem Ipsum is not simply random text. It has roots in a piece of classical Latin literature from 45 BC Lorem Ipsum is simply dummy text of the printing and typesetting industry Lorem Ipsum has been the industry's standard dummy text ever since the 1500s Lorem Ipsum is not simply random text. It has roots in a piece of classical Latin literature from 45 BC Lorem Ipsum is simply dummy text of the printing and typesetting industry Lorem Ipsum has been the industry's standard dummy text ever since the 1500s Lorem Ipsum is not simply random text. It has roots in a piece of classical Latin literature from 45 BC Lorem Ipsum is simply dummy text of the printing and typesetting industry Lorem Ipsum has been the industry's standard dummy text ever since the 1500s Lorem Ipsum is not simply random text. It has roots in a piece of classical Latin literature from 45 BC Lorem Ipsum is simply dummy text of the printing and typesetting industry Lorem Ipsum has been the industry's standard dummy text ever since the 1500s Lorem Ipsum is not simply random text. It has roots in a piece of classical Latin literature from 45 BC Lorem Ipsum is simply dummy text of the printing and typesetting industry Lorem Ipsum has been the industry's standard dummy text ever since the 1500s Lorem Ipsum is not simply random text. It has roots in a piece of classical Latin literature from 45 BC Lorem Ipsum is simply dummy text of the printing and typesetting industry Lorem Ipsum has been the industry's standard dummy text ever since the 1500s Lorem Ipsum is not simply random text. It has roots in a piece of classical Latin literature from 45 BC Lorem Ipsum is simply dummy text of the printing and typesetting industry Lorem Ipsum has been the industry's standard dummy text ever since the 1500s Lorem Ipsum is not simply random text. It has roots in a piece of classical Latin literature from 45 BC Lorem Ipsum is simply dummy text of the printing and typesetting industry Lorem Ipsum has been the industry's standard dummy text ever since the 1500s Lorem Ipsum is not simply random text. It has roots in a piece of classical Latin literature from 45 BC Lorem Ipsum is simply dummy text of the printing and typesetting industry Lorem Ipsum has been the industry's standard dummy text ever since the 1500s Lorem Ipsum is not simply random text. It has roots in a piece of classical Latin literature from 45 BC Lorem Ipsum is simply dummy text of the printing and typesetting industry Lorem Ipsum has been the industry's standard dummy text ever since the 1500s Lorem Ipsum is not simply random text. It has roots in a piece of classical Latin literature from 45 BC\n",
      "1500s, 16\n",
      "45, 16\n",
      "a, 16\n",
      "and, 16\n",
      "bc, 16\n",
      "been, 16\n",
      "classical, 16\n",
      "dummy, 32\n",
      "ever, 16\n",
      "from, 16\n",
      "has, 32\n",
      "in, 16\n",
      "industry, 16\n",
      "industry's, 16\n",
      "ipsum, 48\n",
      "is, 32\n",
      "it, 16\n",
      "latin, 16\n",
      "literature, 16\n",
      "lorem, 48\n",
      "not, 16\n",
      "of, 32\n",
      "piece, 16\n",
      "printing, 16\n",
      "random, 16\n",
      "roots, 16\n",
      "simply, 32\n",
      "since, 16\n",
      "standard, 16\n",
      "text, 32\n",
      "text., 16\n",
      "the, 48\n",
      "typesetting, 16\n"
     ]
    }
   ],
   "source": [
    "list_words = input().lower().split()\n",
    "set_words = set(list_words)\n",
    "set_words = sorted(set_words)\n",
    "\n",
    "for i in set_words:\n",
    "    word = i\n",
    "    count = list_words.count(word)\n",
    "    print(word + ',', count)"
   ]
  },
  {
   "cell_type": "markdown",
   "id": "197b13da",
   "metadata": {},
   "source": [
    "Lorem Ipsum is simply dummy text of the printing and typesetting industry Lorem Ipsum has been the industry's standard dummy text ever since the 1500s Lorem Ipsum is not simply random text. It has roots in a piece of classical Latin literature from 45 BC Lorem Ipsum is simply dummy text of the printing and typesetting industry Lorem Ipsum has been the industry's standard dummy text ever since the 1500s Lorem Ipsum is not simply random text. It has roots in a piece of classical Latin literature from 45 BC Lorem Ipsum is simply dummy text of the printing and typesetting industry Lorem Ipsum has been the industry's standard dummy text ever since the 1500s Lorem Ipsum is not simply random text. It has roots in a piece of classical Latin literature from 45 BC Lorem Ipsum is simply dummy text of the printing and typesetting industry Lorem Ipsum has been the industry's standard dummy text ever since the 1500s Lorem Ipsum is not simply random text. It has roots in a piece of classical Latin literature from 45 BC Lorem Ipsum is simply dummy text of the printing and typesetting industry Lorem Ipsum has been the industry's standard dummy text ever since the 1500s Lorem Ipsum is not simply random text. It has roots in a piece of classical Latin literature from 45 BC Lorem Ipsum is simply dummy text of the printing and typesetting industry Lorem Ipsum has been the industry's standard dummy text ever since the 1500s Lorem Ipsum is not simply random text. It has roots in a piece of classical Latin literature from 45 BC Lorem Ipsum is simply dummy text of the printing and typesetting industry Lorem Ipsum has been the industry's standard dummy text ever since the 1500s Lorem Ipsum is not simply random text. It has roots in a piece of classical Latin literature from 45 BC Lorem Ipsum is simply dummy text of the printing and typesetting industry Lorem Ipsum has been the industry's standard dummy text ever since the 1500s Lorem Ipsum is not simply random text. It has roots in a piece of classical Latin literature from 45 BC Lorem Ipsum is simply dummy text of the printing and typesetting industry Lorem Ipsum has been the industry's standard dummy text ever since the 1500s Lorem Ipsum is not simply random text. It has roots in a piece of classical Latin literature from 45 BC Lorem Ipsum is simply dummy text of the printing and typesetting industry Lorem Ipsum has been the industry's standard dummy text ever since the 1500s Lorem Ipsum is not simply random text. It has roots in a piece of classical Latin literature from 45 BC Lorem Ipsum is simply dummy text of the printing and typesetting industry Lorem Ipsum has been the industry's standard dummy text ever since the 1500s Lorem Ipsum is not simply random text. It has roots in a piece of classical Latin literature from 45 BC Lorem Ipsum is simply dummy text of the printing and typesetting industry Lorem Ipsum has been the industry's standard dummy text ever since the 1500s Lorem Ipsum is not simply random text. It has roots in a piece of classical Latin literature from 45 BC Lorem Ipsum is simply dummy text of the printing and typesetting industry Lorem Ipsum has been the industry's standard dummy text ever since the 1500s Lorem Ipsum is not simply random text. It has roots in a piece of classical Latin literature from 45 BC Lorem Ipsum is simply dummy text of the printing and typesetting industry Lorem Ipsum has been the industry's standard dummy text ever since the 1500s Lorem Ipsum is not simply random text. It has roots in a piece of classical Latin literature from 45 BC Lorem Ipsum is simply dummy text of the printing and typesetting industry Lorem Ipsum has been the industry's standard dummy text ever since the 1500s Lorem Ipsum is not simply random text. It has roots in a piece of classical Latin literature from 45 BC Lorem Ipsum is simply dummy text of the printing and typesetting industry Lorem Ipsum has been the industry's standard dummy text ever since the 1500s Lorem Ipsum is not simply random text. It has roots in a piece of classical Latin literature from 45 BC"
   ]
  }
 ],
 "metadata": {
  "kernelspec": {
   "display_name": "Python 3 (ipykernel)",
   "language": "python",
   "name": "python3"
  },
  "language_info": {
   "codemirror_mode": {
    "name": "ipython",
    "version": 3
   },
   "file_extension": ".py",
   "mimetype": "text/x-python",
   "name": "python",
   "nbconvert_exporter": "python",
   "pygments_lexer": "ipython3",
   "version": "3.10.6"
  }
 },
 "nbformat": 4,
 "nbformat_minor": 5
}
