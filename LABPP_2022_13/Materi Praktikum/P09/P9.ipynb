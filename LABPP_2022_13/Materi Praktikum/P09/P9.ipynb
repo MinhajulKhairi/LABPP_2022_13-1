{
  "nbformat": 4,
  "nbformat_minor": 0,
  "metadata": {
    "colab": {
      "provenance": [],
      "collapsed_sections": [
        "7ILpnHvSAHB2"
      ]
    },
    "kernelspec": {
      "name": "python3",
      "display_name": "Python 3"
    },
    "language_info": {
      "name": "python"
    }
  },
  "cells": [
    {
      "cell_type": "markdown",
      "source": [
        "# **Chapter 09: OOP (Encapsulation & Inheritance)**"
      ],
      "metadata": {
        "id": "2jxSPbnI_2rN"
      }
    },
    {
      "cell_type": "markdown",
      "source": [
        "## **Respon:**"
      ],
      "metadata": {
        "id": "0L8Mal1hABpf"
      }
    },
    {
      "cell_type": "markdown",
      "source": [
        "1. Tuliskan perbedaan *access variable* berikut:\n",
        "```\n",
        "var   = 'a public variable'\n",
        "_var  = 'a protected variable'\n",
        "__var = 'a private variable'\n",
        "```\n",
        "2. Jelaskan *encapsulation* dan proses pengunaannya dalam OOP!\n",
        "3. Jelaskan *inheritance* dan contoh penggunaannya dalam OOP!\n"
      ],
      "metadata": {
        "id": "-Ahgwf7plihb"
      }
    },
    {
      "cell_type": "markdown",
      "source": [
        "## **Coding**"
      ],
      "metadata": {
        "id": "pvzlTnxPAEzM"
      }
    },
    {
      "cell_type": "code",
      "source": [
        "#Encapsulation Case Study: Game\n",
        "\n",
        "#clas\n",
        "class Player:\n",
        "  #class variable (attribute) -> public\n",
        "  varPublic = 0\n",
        "\n",
        "  #protected\n",
        "  _varProtected = 1\n",
        "\n",
        "  #private\n",
        "  __varPrivate = 2\n",
        "\n",
        "print(Player.__dict__)\n",
        "print(Player.varPublic)\n",
        "print(Player._varProtected)\n",
        "# print(Player.__varPrivate) -> tidak bisa dilakukan"
      ],
      "metadata": {
        "colab": {
          "base_uri": "https://localhost:8080/"
        },
        "id": "Qc09pq2ELMLB",
        "outputId": "494ecc2f-ce56-431d-ddc8-8de0faba3d38"
      },
      "execution_count": null,
      "outputs": [
        {
          "output_type": "stream",
          "name": "stdout",
          "text": [
            "{'__module__': '__main__', 'varPublic': 0, '_varProtected': 1, '_Player__varPrivate': 2, '__dict__': <attribute '__dict__' of 'Player' objects>, '__weakref__': <attribute '__weakref__' of 'Player' objects>, '__doc__': None}\n",
            "0\n",
            "1\n"
          ]
        }
      ]
    },
    {
      "cell_type": "code",
      "source": [
        "#Encapsulation Case Study: Game\n",
        "#clas\n",
        "class Player:\n",
        "  #const\n",
        "  def __init__(self, name, role):\n",
        "    self.__name = name\n",
        "    self.__role = role\n",
        "  \n",
        "  #function setter and getter -> proses encapsulation\n",
        "  def getName(self):\n",
        "    return self.__name\n",
        "  \n",
        "  def setRole(self, newRole):\n",
        "    self.__role = newRole\n",
        "\n",
        "#obj\n",
        "player1 = Player('Player1', 'Role')\n",
        "print(player1.__dict__)\n",
        "print(player1.getName()) #use getter\n",
        "\n",
        "#player1.__role = 'Role2' #don't do it\n",
        "player1.setRole('Role2')\n",
        "print(player1.__dict__)"
      ],
      "metadata": {
        "colab": {
          "base_uri": "https://localhost:8080/"
        },
        "id": "SpH8jQWENU3J",
        "outputId": "0a00e371-3627-4a9a-8fcb-de30169dc2b6"
      },
      "execution_count": null,
      "outputs": [
        {
          "output_type": "stream",
          "name": "stdout",
          "text": [
            "{'_Player__name': 'Player1', '_Player__role': 'Role'}\n",
            "Player1\n",
            "{'_Player__name': 'Player1', '_Player__role': 'Role2'}\n"
          ]
        }
      ]
    },
    {
      "cell_type": "code",
      "source": [
        "#Inheritance case study: Game\n",
        "\n",
        "#parent class/ super class / base class\n",
        "class Player:\n",
        "  __countPlayer = 0 #class variable\n",
        "  def __init__(self, name, role):\n",
        "    Player.__countPlayer += 1\n",
        "    self.__name = name #obj variable\n",
        "    self.__role = role #obj variable\n",
        "\n",
        "  def getCountPlayer():\n",
        "    return Player.__countPlayer\n",
        "\n",
        "#inheritance -> pewarisan (tanpa menulis ulang codenya)\n",
        "\n",
        "#child class / sub class / derived class\n",
        "class Hero(Player):\n",
        "  #empty\n",
        "  pass\n",
        "\n",
        "hero1 = Hero('Hero1', 'Pahlawan')\n",
        "print(hero1.__dict__) #obj\n",
        "\n",
        "print(Hero.getCountPlayer())\n"
      ],
      "metadata": {
        "colab": {
          "base_uri": "https://localhost:8080/"
        },
        "id": "1DBe5LTVPmr_",
        "outputId": "43d83732-8a8c-4b22-d7b5-01bf32cad1c6"
      },
      "execution_count": null,
      "outputs": [
        {
          "output_type": "stream",
          "name": "stdout",
          "text": [
            "{'_Player__name': 'Hero1', '_Player__role': 'Pahlawan'}\n",
            "1\n"
          ]
        }
      ]
    },
    {
      "cell_type": "markdown",
      "source": [
        "Inheritance -> pewarisan (tanpa menulis ulang codenya)\n",
        "- Parent class akan mewariskan semua attribute (variable) dan behaviour (function) ke child class nya \n",
        "- Kita bisa akses semua yang ada di parent class menggunakan child classnya, tapi tidak sebaliknya"
      ],
      "metadata": {
        "id": "sTBRoF5rVSAW"
      }
    },
    {
      "cell_type": "code",
      "source": [
        "#Inheritance case study: Game\n",
        "\n",
        "#parent class/ super class / base class\n",
        "class Player:\n",
        "  __countPlayer = 0 #class variable\n",
        "\n",
        "  def __init__(self, name, power, defense):\n",
        "    Player.__countPlayer += 1\n",
        "    self.__name = name #obj variable\n",
        "    self.__power = power\n",
        "    self.__defense = defense\n",
        "\n",
        "  def getCountPlayer():\n",
        "    return Player.__countPlayer\n",
        "\n",
        "#child class / sub class / derived class\n",
        "class Hero(Player):\n",
        "  __countHero = 0\n",
        "  def __init__(self, name, power, defense):\n",
        "    Hero.__countHero += 1\n",
        "    super().__init__(name, power, defense)\n",
        "    self.__role = \"Hero\"\n",
        "  \n",
        "  def getCountPlayer():\n",
        "    return Hero.__countHero\n",
        "\n",
        "#child class\n",
        "class Villain(Player):\n",
        "  __countVillain = 0\n",
        "  def __init__(self, name, power, defense):\n",
        "    Villain.__countVillain += 1\n",
        "    super().__init__(name, power, defense)\n",
        "    self.__role = \"Villain\"\n",
        "\n",
        "  def getCountPlayer():\n",
        "    return Villain.__countVillain\n",
        "\n",
        "hero1 = Hero('Hero1', 100, 50)\n",
        "villain1 = Villain('Villain1', 50, 100)\n",
        "hero2 = Hero('Hero2', 200, 100)\n",
        "villain2 = Villain('Villain2', 400, 200)\n",
        "\n",
        "print(Player.getCountPlayer())\n",
        "print(Hero.getCountPlayer())\n",
        "print(Villain.getCountPlayer())"
      ],
      "metadata": {
        "colab": {
          "base_uri": "https://localhost:8080/"
        },
        "id": "AUCPK66wLMNB",
        "outputId": "92a752d8-f4ac-4b99-cf30-cfe322085efb"
      },
      "execution_count": null,
      "outputs": [
        {
          "output_type": "stream",
          "name": "stdout",
          "text": [
            "4\n",
            "2\n",
            "2\n"
          ]
        }
      ]
    },
    {
      "cell_type": "markdown",
      "source": [
        "Overriding function: function dengan nama yang sama tetapi berada di kelas yang berbeda"
      ],
      "metadata": {
        "id": "G4YBxd8iVoYM"
      }
    },
    {
      "cell_type": "code",
      "source": [
        "class Player:\n",
        "  __countPlayer = 0\n",
        "  def __init__(self, name, power, defense):\n",
        "    Player.__countPlayer += 1\n",
        "    self.__name = name\n",
        "    self.__power = power\n",
        "    self.__defense = defense\n",
        "\n",
        "  def getPower(self):\n",
        "    return self.__power\n",
        "  \n",
        "  def setPower(self, addPower):\n",
        "    self.__power += addPower*(0.5)\n",
        "  \n",
        "  def getDefense(self):\n",
        "    return self.__defense\n",
        "\n",
        "  def setDefense(self, subDefense):\n",
        "    self.__defense -= subDefense\n",
        "    if self.__defense < 0:\n",
        "      self.__defense = 0\n",
        "\n",
        "class Hero(Player):\n",
        "  def __init__(self, name, power, defense, role):\n",
        "    super().__init__(name, power, defense)\n",
        "    self.__role = 'Hero'\n",
        "\n",
        "class Villain(Player):\n",
        "  def __init__(self, name, power, defense, role):\n",
        "    super().__init__(name, power, defense)\n",
        "    self.__role = 'Villain'\n",
        "\n",
        "def aAttackb(attacker, receiver):\n",
        "  damage = abs(receiver.getDefense() - attacker.getPower())\n",
        "  receiver.setDefense(damage)\n",
        "  attacker.setPower(damage)\n",
        "\n",
        "#start\n",
        "hero1 = Hero('Hero1', 100, 100, 'Hero')\n",
        "villain1 = Villain('Villain1', 100, 1000, 'Villain')\n",
        "\n",
        "print(hero1.__dict__)\n",
        "print(villain1.__dict__)\n",
        "\n",
        "aAttackb(hero1, villain1)\n",
        "\n",
        "print(hero1.__dict__)\n",
        "print(villain1.__dict__)"
      ],
      "metadata": {
        "id": "HRVi19i5LMPW",
        "colab": {
          "base_uri": "https://localhost:8080/"
        },
        "outputId": "962515df-dcab-48fa-ade0-2efffddf57ca"
      },
      "execution_count": null,
      "outputs": [
        {
          "output_type": "stream",
          "name": "stdout",
          "text": [
            "{'_Player__name': 'Hero1', '_Player__power': 100, '_Player__defense': 100, '_Hero__role': 'Hero'}\n",
            "{'_Player__name': 'Villain1', '_Player__power': 100, '_Player__defense': 1000, '_Villain__role': 'Villain'}\n",
            "{'_Player__name': 'Hero1', '_Player__power': 550.0, '_Player__defense': 100, '_Hero__role': 'Hero'}\n",
            "{'_Player__name': 'Villain1', '_Player__power': 100, '_Player__defense': 100, '_Villain__role': 'Villain'}\n"
          ]
        }
      ]
    },
    {
      "cell_type": "code",
      "source": [],
      "metadata": {
        "id": "Nx8Ug9sGLMRv"
      },
      "execution_count": null,
      "outputs": []
    },
    {
      "cell_type": "code",
      "source": [],
      "metadata": {
        "id": "-dnVlz57LMVL"
      },
      "execution_count": null,
      "outputs": []
    },
    {
      "cell_type": "code",
      "source": [
        "class Player:\n",
        "  __countPlayer = 0\n",
        "  def __init__(self, name, power, defense):\n",
        "    Player.__countPlayer += 1\n",
        "    self.__name = name\n",
        "    self.__power = power\n",
        "    self.__defense = defense\n",
        "\n",
        "  def getPower(self):\n",
        "    return self.__power\n",
        "  \n",
        "  def setPower(self, addPower):\n",
        "    self.__power += addPower*(0.5)\n",
        "  \n",
        "  def getDefense(self):\n",
        "    return self.__defense\n",
        "\n",
        "  def setDefense(self, subDefense):\n",
        "    self.__defense -= subDefense\n",
        "    if self.__defense < 0:\n",
        "      self.__defense = 0\n",
        "\n",
        "class Hero(Player):\n",
        "  def __init__(self, name, power, defense, role):\n",
        "    super().__init__(name, power, defense)\n",
        "    self.__role = 'Hero'\n",
        "\n",
        "class Villain(Player):\n",
        "  def __init__(self, name, power, defense, role):\n",
        "    super().__init__(name, power, defense)\n",
        "    self.__role = 'Villain'\n",
        "\n",
        "def aAttackb(attacker, receiver):\n",
        "  pass\n",
        "  damage = abs(receiver.getDefense() - attacker.getPower())\n",
        "  receiver.setDefense(damage)\n",
        "  attacker.setPower(damage)\n",
        "\n",
        "def main():\n",
        "  # Game starts\n",
        "  hero1 = Hero('Hero1', 100, 100, 'Hero')\n",
        "  villain1 = Villain('Villain1', 100, 1000, 'Villain')\n",
        "\n",
        "  # Game in progress\n",
        "  war = True\n",
        "  while war:\n",
        "    if hero1.getDefense() > 0 and villain1.getDefense() > 0:  \n",
        "      aAttackb(hero1, villain1)\n",
        "      if hero1.getDefense() > 0 and villain1.getDefense() > 0:\n",
        "        aAttackb(villain1, hero1)\n",
        "    else:\n",
        "      war = False\n",
        "\n",
        "  #Game end\n",
        "  if hero1.getDefense() == 0 and villain1.getDefense() == 0:\n",
        "    print('Draw')\n",
        "  elif hero1.getDefense() == 0:\n",
        "    print(villain1.__class__.__name__, 'win')\n",
        "  elif villain1.getDefense() == 0:\n",
        "    print(hero1.__class__.__name__, 'win')\n",
        "  \n",
        "  print(hero1.__dict__)\n",
        "  print(villain1.__dict__)\n",
        "\n",
        "if __name__ == '__main__':\n",
        "  main()\n"
      ],
      "metadata": {
        "colab": {
          "base_uri": "https://localhost:8080/"
        },
        "id": "fNXThViJfPG3",
        "outputId": "f703a6df-5b71-4602-865b-da2556c67712"
      },
      "execution_count": null,
      "outputs": [
        {
          "output_type": "stream",
          "name": "stdout",
          "text": [
            "Hero win\n",
            "{'_Player__name': 'Hero1', '_Player__power': 775.0, '_Player__defense': 100, '_Hero__role': 'Hero'}\n",
            "{'_Player__name': 'Villain1', '_Player__power': 100.0, '_Player__defense': 0, '_Villain__role': 'Villain'}\n"
          ]
        }
      ]
    },
    {
      "cell_type": "markdown",
      "source": [
        "## **Quiz**"
      ],
      "metadata": {
        "id": "7ILpnHvSAHB2"
      }
    },
    {
      "cell_type": "code",
      "source": [
        "#1. Jelaskan program berikut menggunakan konsep encapsulation (variabel, access modifier, dan bagaimana cara mengaksesnya)!\n",
        "class Player:\n",
        "  countPlayer = 0\n",
        "  def __init__(self, name, role, attack, defense):\n",
        "    Player.countPlayer += 1\n",
        "    self.name = name\n",
        "    self._role = role\n",
        "    self.__attack = attack\n",
        "    self.__defense = defense\n",
        "  def setRole(self, role):\n",
        "    self._role = role\n",
        "  def getAttack(self):\n",
        "    return self.__attack\n",
        "  def getDefense(self):\n",
        "    return self.__defense\n",
        "player1 = Player('Name', 'Role', 100, 50)"
      ],
      "metadata": {
        "id": "EOTw9-Acolm8"
      },
      "execution_count": null,
      "outputs": []
    },
    {
      "cell_type": "markdown",
      "source": [
        "2. Buatlah sebuah program yang menerapkan konsep *inheritance* dengan ketentuan sebagai berikut:\n",
        "- Terdiri dari satu `parent class`\n",
        "- Memiliki dua `child clas`\n",
        "- Memiliki tiga `attribute` yang di-`derived`\n",
        "- Memiliki satu `behaviour` yang di-`override`"
      ],
      "metadata": {
        "id": "Ol7wnZbqnwvA"
      }
    }
  ]
}