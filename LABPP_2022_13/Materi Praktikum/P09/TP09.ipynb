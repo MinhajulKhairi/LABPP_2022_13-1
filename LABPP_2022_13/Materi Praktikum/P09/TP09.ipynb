{
  "nbformat": 4,
  "nbformat_minor": 0,
  "metadata": {
    "colab": {
      "provenance": [],
      "collapsed_sections": []
    },
    "kernelspec": {
      "name": "python3",
      "display_name": "Python 3"
    },
    "language_info": {
      "name": "python"
    }
  },
  "cells": [
    {
      "cell_type": "markdown",
      "source": [
        "## **Tugas Praktikum 09**"
      ],
      "metadata": {
        "id": "Yc12WNYkUwFK"
      }
    },
    {
      "cell_type": "code",
      "execution_count": 58,
      "metadata": {
        "id": "vLesQq2cGkMs"
      },
      "outputs": [],
      "source": [
        "class Human:\n",
        "  def __init__(self, name, position):\n",
        "    self.name = name\n",
        "    self.__position = position\n",
        "    self._speed = 1\n",
        "\n",
        "  def setPosition(self, setPosition):\n",
        "    self.__position = setPosition\n",
        "  \n",
        "  def getPosition(self):\n",
        "    return self.__position\n",
        "  \n",
        "  def getSpeed(self):\n",
        "    return self._speed\n",
        "  \n",
        "  def movement(self, direction):\n",
        "    if direction == 'R':\n",
        "      move = self.getPosition() + self._speed\n",
        "    elif direction == 'L':\n",
        "      move = self.getPosition() - self._speed\n",
        "    self.setPosition(move) \n",
        "  "
      ]
    },
    {
      "cell_type": "code",
      "source": [
        "class Hero(Human):\n",
        "  def __init__(self, name, position):\n",
        "    super().__init__(name, position)\n",
        "    self._power = 15\n",
        "    self._health = 400\n",
        "    self._armor = 15\n",
        "    self._speed = 3\n",
        "  \n",
        "  def attack(self, target):\n",
        "    target._health = target._health - self._power\n",
        "  \n",
        "  def getPower(self):\n",
        "    return self._power\n",
        "\n",
        "  def getHealth(self):\n",
        "    return self._health\n",
        "    \n",
        "  def getArmor(self):\n",
        "    return self._armor\n",
        "  "
      ],
      "metadata": {
        "id": "AtpgmvdFLyqM"
      },
      "execution_count": 59,
      "outputs": []
    },
    {
      "cell_type": "code",
      "source": [
        "class Warrior(Hero):\n",
        "  def __init__(self, name, position):\n",
        "    super().__init__(name, position)\n",
        "    self._power = 26\n",
        "    self._armor = 30\n",
        "  \n",
        "  def special(self, target):\n",
        "    self._armor = 45\n",
        "    self._power = 32\n",
        "    target._health = target._health - self._power"
      ],
      "metadata": {
        "id": "DCwRzyVeIgWL"
      },
      "execution_count": 60,
      "outputs": []
    },
    {
      "cell_type": "code",
      "source": [
        "class Assassin(Hero):\n",
        "  def __init__(self, name, position):\n",
        "    super().__init__(name, position)\n",
        "    self._power = 35\n",
        "    self._speed = 4\n",
        "  \n",
        "    def special(self, target):\n",
        "      self._speed = 7\n",
        "      self._power = 42\n",
        "      target._health = target._health - self._power"
      ],
      "metadata": {
        "id": "KPusIc3VOcsa"
      },
      "execution_count": 61,
      "outputs": []
    },
    {
      "cell_type": "code",
      "source": [
        "class Support(Hero):\n",
        "  def __init__(self, name, position):\n",
        "    super().__init__(name, position)\n",
        "    self._health = 500\n",
        "    self._armor = 8\n",
        "    self._speed = 4\n",
        "  \n",
        "  def special(self, target):\n",
        "    self._speed = 6\n",
        "    target._health = target._health + 150\n"
      ],
      "metadata": {
        "id": "pafwnuvOOiCK"
      },
      "execution_count": 62,
      "outputs": []
    },
    {
      "cell_type": "code",
      "source": [
        "warrior = Warrior(\"Bambang\", 10)\n",
        "assassin = Assassin(\"Joko\", 25)\n",
        "support = Support(\"Udin\", 30)\n",
        "\n",
        "# sebelum\n",
        "print(\"health (before)\", warrior.getHealth())\n",
        "assassin.attack(warrior)\n",
        "\n",
        "# sesudah\n",
        "print(\"health (after)\", warrior.getHealth())\n",
        "print(\"-\"*20)\n",
        "\n",
        "# sebelum\n",
        "print(\"Warrior (health)\", warrior.getHealth())\n",
        "print(\"Support (speed) : \",support.getSpeed())\n",
        "support.special(warrior)\n",
        "\n",
        "# sesudah\n",
        "print(\"Warrior (health)\", warrior.getHealth())\n",
        "print(\"Support (speed): \",support.getSpeed())\n"
      ],
      "metadata": {
        "colab": {
          "base_uri": "https://localhost:8080/"
        },
        "id": "astLIDJeRWwX",
        "outputId": "2a42402f-cc10-42a0-9021-957a36136598"
      },
      "execution_count": 64,
      "outputs": [
        {
          "output_type": "stream",
          "name": "stdout",
          "text": [
            "health (before) 400\n",
            "health (after) 365\n",
            "--------------------\n",
            "Warrior (health) 365\n",
            "Support (speed) :  4\n",
            "Warrior (health) 515\n",
            "Support (speed):  6\n"
          ]
        }
      ]
    }
  ]
}