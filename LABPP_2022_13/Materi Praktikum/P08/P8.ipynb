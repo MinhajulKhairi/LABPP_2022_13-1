{
  "cells": [
    {
      "cell_type": "markdown",
      "metadata": {
        "id": "X-xq3sIoS6jR"
      },
      "source": [
        "# **Chapter 08: OOP (Object and Class)**"
      ]
    },
    {
      "cell_type": "markdown",
      "metadata": {
        "id": "ngLY0hAGTDlF"
      },
      "source": [
        "## **Respons**"
      ]
    },
    {
      "cell_type": "markdown",
      "metadata": {
        "id": "NjIt1VF8TIiY"
      },
      "source": [
        "1. Apa itu `Object Oriented Programming` dan apa bedanya dengan `Procedural Programming` (Programming yang kalian lakukan di pertamuan 1-7)?\n",
        "2. Jelaskan `Class` dan `Object` serta hubungan keduanya!\n",
        "3. Tuliskan perbedaan `Constructor`, `Attribute`, dan `Behaviour`!"
      ]
    },
    {
      "cell_type": "markdown",
      "metadata": {
        "id": "iriP3gBXOu6a"
      },
      "source": [
        "## **Coding**"
      ]
    },
    {
      "cell_type": "code",
      "execution_count": 1,
      "metadata": {
        "colab": {
          "base_uri": "https://localhost:8080/"
        },
        "id": "5WqVO8PSPGwA",
        "outputId": "02684856-4979-4aa2-dc58-7b372b8a6c83"
      },
      "outputs": [
        {
          "name": "stdout",
          "output_type": "stream",
          "text": [
            "2\n",
            "2\n"
          ]
        }
      ],
      "source": [
        "#Create class\n",
        "class Bird:\n",
        "  #attribute (sifat) berupa variabel (int, str, etc)\n",
        "  wings = 2\n",
        "  legs = 2\n",
        "  #behaviour (perilaku) berupa function (void or return)\n",
        "  def fly(self):\n",
        "    print('Birds can fly')\n",
        "  def walk(self):\n",
        "    print('Birds can walk')\n",
        "\n",
        "#Create object\n",
        "beo = Bird()\n",
        "#Call attribute\n",
        "print(beo.wings)\n",
        "print(beo.legs)\n",
        "# #Call behaviour\n",
        "# beo.fly()\n",
        "# beo.walk()\n"
      ]
    },
    {
      "cell_type": "code",
      "execution_count": 3,
      "metadata": {
        "colab": {
          "base_uri": "https://localhost:8080/"
        },
        "id": "QwwFWlSabzfN",
        "outputId": "63e6ddad-fd68-4cfc-f956-cb48cf9f4131"
      },
      "outputs": [
        {
          "name": "stdout",
          "output_type": "stream",
          "text": [
            "Beo can fly 65 km/h\n"
          ]
        }
      ],
      "source": [
        "#Make it simple\n",
        "class Bird:\n",
        "  #Constructor 1\n",
        "  def __init__(self, name, wings, legs, speed):\n",
        "    self.name = name\n",
        "    self.wings = wings\n",
        "    self.legs = legs\n",
        "    self.speed = speed\n",
        "  #Constructor 2\n",
        "  def __str__(self):\n",
        "    return(f'{self.name} has {self.wings} wings and {self.legs} and legs')\n",
        "  #Behaviour 1\n",
        "  def fly(self):\n",
        "    print(f'{self.name} can fly {self.speed} km/h')\n",
        "  #Behaviour 2\n",
        "  def sleep(self):\n",
        "    self.speed += 10\n",
        "  def walk(self):\n",
        "    self.speed -= 5\n",
        "\n",
        "#Create object from Bird\n",
        "beo = Bird('Beo', 2, 2, 50)\n",
        "beo.sleep()\n",
        "beo.sleep()\n",
        "beo.walk()\n",
        "beo.fly()"
      ]
    },
    {
      "cell_type": "code",
      "execution_count": 4,
      "metadata": {
        "colab": {
          "base_uri": "https://localhost:8080/"
        },
        "id": "vxA8whuHcB3K",
        "outputId": "b15bc715-7316-4f77-a085-8159ae140971"
      },
      "outputs": [
        {
          "name": "stdout",
          "output_type": "stream",
          "text": [
            "Shark has Light Blue color\n",
            "Shark has Blue color\n",
            "Shark has Dark Blue color\n"
          ]
        }
      ],
      "source": [
        "class Fish:\n",
        "  def __init__(self, name, age):\n",
        "    self.name = name\n",
        "    self.age = age\n",
        "    self.color = 'Light Blue'\n",
        "  def addAge(self):\n",
        "    self.age += 10\n",
        "  def getColor(self):\n",
        "    if 1 <= self.age and self.age <= 10:\n",
        "      self.color = 'Light Blue'\n",
        "    elif 11 <= self.age and self.age <= 20:\n",
        "      self.color = 'Blue'\n",
        "    else:\n",
        "      self.color = 'Dark Blue'\n",
        "    print(f'{self.name} has {self.color} color')\n",
        "\n",
        "#Create object from Fish\n",
        "shark = Fish('Shark', 5)\n",
        "shark.getColor() #5\n",
        "shark.addAge()\n",
        "shark.getColor() #15\n",
        "shark.addAge()\n",
        "shark.getColor() #25"
      ]
    },
    {
      "cell_type": "markdown",
      "metadata": {
        "id": "5dFnelYsj68W"
      },
      "source": [
        "### **Latihan 1**\n",
        "1. Buat Program dengan menggunakan 2 class (kalian tentukan sendiri kelasnya, ex = animals, fruits, games, etc)\n",
        "2. Buat 2 attribute masing-masing class\n",
        "3. Buat 1 behaviour masing-masing class\n",
        "4. Buat 1 object masing masing class"
      ]
    },
    {
      "cell_type": "markdown",
      "metadata": {
        "id": "fwFeXpyUPCpo"
      },
      "source": [
        "## **Quiz**"
      ]
    },
    {
      "cell_type": "markdown",
      "metadata": {
        "id": "dG0gQyiVSTvS"
      },
      "source": [
        "1. Jelaskan kode program berikut menggunakan keywords (Object, Class, Constructor, Attribute, and Behaviour)\n",
        "\n",
        "```\n",
        "class Bird:\n",
        "  wings = 2\n",
        "  legs = 2\n",
        "  def __init__(self, name, age):\n",
        "    self.name = name\n",
        "    self.age = age\n",
        "  def fly(self):\n",
        "    print(self.name, 'fly using', self.wings, 'wings')\n",
        "\n",
        "class Fish:\n",
        "  fin = 3\n",
        "  tail = 1\n",
        "  def __init__(self, name, age):\n",
        "    self.name = name\n",
        "    self.age = age\n",
        "  def swim(self):\n",
        "    print(self.name, 'swim using', self.fin, 'fins and', self.tail, 'tails')\n",
        "\n",
        "shark = Fish('Shark', 10)\n",
        "shark.swim()\n",
        "pigeon = Bird('Pigeon', 3)\n",
        "pigeon.fly()\n",
        "```\n",
        "\n"
      ]
    },
    {
      "cell_type": "code",
      "execution_count": 5,
      "metadata": {},
      "outputs": [
        {
          "name": "stdout",
          "output_type": "stream",
          "text": [
            "Shark swim using 3 fins and 1 tails\n",
            "Pigeon fly using 2 wings\n"
          ]
        }
      ],
      "source": [
        "class Bird:\n",
        "  wings = 2\n",
        "  legs = 2\n",
        "  def __init__(self, name, age):\n",
        "    self.name = name\n",
        "    self.age = age\n",
        "  def fly(self):\n",
        "    print(self.name, 'flies using', self.wings, 'wings')\n",
        "\n",
        "class Fish:\n",
        "  fin = 3\n",
        "  tail = 1\n",
        "  def __init__(self, name, age):\n",
        "    self.name = name\n",
        "    self.age = age\n",
        "  def swim(self):\n",
        "    print(self.name, 'swims using', self.fin, 'fins and', self.tail, 'tails')\n",
        "\n",
        "shark = Fish('Shark', 10)\n",
        "shark.swim()\n",
        "pigeon = Bird('Pigeon', 3)\n",
        "pigeon.fly()"
      ]
    },
    {
      "cell_type": "markdown",
      "metadata": {
        "id": "C_rrCKedooVU"
      },
      "source": [
        "2. Buatlah program menggunakan paradigma OOP dengan ketentuan sebagai berikut:\n",
        "- Terdiri dari 2 class yaitu Tank and Assassin\n",
        "- Tank memiliki attribute defense yang tinggi dan attack yang rendah, dengan behaviour addDefense\n",
        "- Assassin memiliki attribute defense yang rendah dan attack yang tinggi, dengan behaviour addAttack\n",
        "- Masing-masing kelas memiliki 1 object"
      ]
    }
  ],
  "metadata": {
    "colab": {
      "collapsed_sections": [],
      "provenance": []
    },
    "kernelspec": {
      "display_name": "Python 3.10.6 64-bit",
      "language": "python",
      "name": "python3"
    },
    "language_info": {
      "codemirror_mode": {
        "name": "ipython",
        "version": 3
      },
      "file_extension": ".py",
      "mimetype": "text/x-python",
      "name": "python",
      "nbconvert_exporter": "python",
      "pygments_lexer": "ipython3",
      "version": "3.10.6"
    },
    "vscode": {
      "interpreter": {
        "hash": "79aec0e5939b5a67d5808a88964e0416111916e6d032b7bcf3a8b59ece248820"
      }
    }
  },
  "nbformat": 4,
  "nbformat_minor": 0
}
