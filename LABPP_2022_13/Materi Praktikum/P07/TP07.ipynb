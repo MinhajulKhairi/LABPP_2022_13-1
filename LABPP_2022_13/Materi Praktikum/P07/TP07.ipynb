{
 "cells": [
  {
   "cell_type": "markdown",
   "metadata": {},
   "source": [
    "**1. Buatlah sebuah program untuk mengecek sebuah string S apakah sesuai dengan kondisi berikut:**\n",
    "* S memiliki panjang 45 karakter\n",
    "* 40 karakter pertama harus terdiri dari huruf uppercase atau lowercase atau digit bernilai genap \n",
    "* 5 karakter terakhir terdiri dari digit bernilai ganjil atau whitespace character.\n"
   ]
  },
  {
   "cell_type": "code",
   "execution_count": 22,
   "metadata": {},
   "outputs": [
    {
     "name": "stdout",
     "output_type": "stream",
     "text": [
      "false\n"
     ]
    }
   ],
   "source": [
    "import re\n",
    "s = input() \n",
    "\n",
    "pola = re.compile(\"[a-zA-Z02468]{40}[\\s13579]{5}\")\n",
    "\n",
    "if pola.fullmatch(s):\n",
    "    print(\"true\")\n",
    "else:\n",
    "    print(\"false\")"
   ]
  },
  {
   "cell_type": "markdown",
   "metadata": {},
   "source": [
    "**2. Buatlah program untuk mengecek apakah sebuah inputan merupakan IPv4, IPv6 atau bukan keduanya**\n",
    "* Format Input\n",
    "Sebuah integer N yang menyatakan jumlah baris inputan teks yang merupakan IPv4, IPv6 atau bukan keduanya. Jika teks tersebut merupakan IP Address maka tidak akan ada tambahan teks atau whitespace diawal atau diakhir IP Address tersebut. Setiap baris inputan tidak boleh melebihi 500 karakter\n",
    "\n",
    "* Format Output\n",
    "N baris. Output pada urutan ke-i harus bernilai “IPv4”, “IPv6”,”Bukan IP Address” tergantung dari nilai yang dideteksi\n",
    "\n"
   ]
  },
  {
   "cell_type": "code",
   "execution_count": 23,
   "metadata": {},
   "outputs": [
    {
     "name": "stdout",
     "output_type": "stream",
     "text": [
      "192.168.1.1 adalah IPv4\n",
      "192.158.3.43 adalah IPv4\n"
     ]
    }
   ],
   "source": [
    "import re\n",
    "def match_IPv4(string):\n",
    "    #                250-255  200-249    100-199       0-99  \n",
    "    pola_0to255 = r\"(25[0-5]|2[0-4][0-9]|1[0-9]{1,2}|[1-9]?[0-9])\"\n",
    "    pola_IPv4 = fr\"{pola_0to255}.{pola_0to255}.{pola_0to255}.{pola_0to255}\"\n",
    "    return re.fullmatch(pola_IPv4, string)\n",
    "\n",
    "def match_IPv6(string):\n",
    "    hex_4char = r\"[0-9A-Fa-f]{1,4}\"\n",
    "    pola_IPv6 = fr\"{hex_4char}\" + fr\":{hex_4char}\"*7\n",
    "    return re.fullmatch(pola_IPv6, string)\n",
    "\n",
    "# handling input jumlah ip address\n",
    "try:\n",
    "    count = int(input(\"jumlah inputan : \"))\n",
    "except:\n",
    "    print(\"error : pastikan inputan berupa bilangan positif\")\n",
    "else : \n",
    "    # jika input jumlah valid\n",
    "\n",
    "    # minta input ip address sebanyak count\n",
    "    list_ip_address = []\n",
    "    for i in range(count): \n",
    "        input_ip = input(f\"masukkan ip ke{i+1} :\")\n",
    "        list_ip_address.append(input_ip)\n",
    "        \n",
    "    # cek jenis tiap inputnya (IPv4/IPv6/None)\n",
    "    for ip_address in list_ip_address:\n",
    "        if match_IPv4(ip_address):\n",
    "            print(ip_address, \"adalah IPv4\")\n",
    "        elif match_IPv6(ip_address):\n",
    "            print(ip_address, \"adalah IPv6\")\n",
    "        else:\n",
    "            print(ip_address, \"bukan ip address\")\n"
   ]
  },
  {
   "cell_type": "code",
   "execution_count": 12,
   "metadata": {},
   "outputs": [
    {
     "data": {
      "text/plain": [
       "'[0-9A-Fa-f]{1,4}:[0-9A-Fa-f]{1,4}:[0-9A-Fa-f]{1,4}:[0-9A-Fa-f]{1,4}:[0-9A-Fa-f]{1,4}:[0-9A-Fa-f]{1,4}:[0-9A-Fa-f]{1,4}:[0-9A-Fa-f]{1,4}'"
      ]
     },
     "execution_count": 12,
     "metadata": {},
     "output_type": "execute_result"
    }
   ],
   "source": [
    "hex_4char = r\"[0-9A-Fa-f]{1,4}\"\n",
    "\n",
    "fr\"{hex_4char}\"+fr\":{hex_4char}\"*7"
   ]
  }
 ],
 "metadata": {
  "kernelspec": {
   "display_name": "Python 3.10.7 64-bit",
   "language": "python",
   "name": "python3"
  },
  "language_info": {
   "codemirror_mode": {
    "name": "ipython",
    "version": 3
   },
   "file_extension": ".py",
   "mimetype": "text/x-python",
   "name": "python",
   "nbconvert_exporter": "python",
   "pygments_lexer": "ipython3",
   "version": "3.10.7"
  },
  "orig_nbformat": 4,
  "vscode": {
   "interpreter": {
    "hash": "df2baed352af3cf6afe9a5938213a7c97b2278df96dc0c4ddb8bf14e2412b1fd"
   }
  }
 },
 "nbformat": 4,
 "nbformat_minor": 2
}
